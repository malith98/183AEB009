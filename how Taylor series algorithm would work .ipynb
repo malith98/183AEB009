{
  "nbformat": 4,
  "nbformat_minor": 0,
  "metadata": {
    "colab": {
      "name": "Untitled1.ipynb",
      "provenance": [],
      "authorship_tag": "ABX9TyMDhrA7G9/47qhW+ilmj2zQ",
      "include_colab_link": true
    },
    "kernelspec": {
      "name": "python3",
      "display_name": "Python 3"
    }
  },
  "cells": [
    {
      "cell_type": "markdown",
      "metadata": {
        "id": "view-in-github",
        "colab_type": "text"
      },
      "source": [
        "<a href=\"https://colab.research.google.com/github/malith98/183AEB009/blob/master/how%20Taylor%20series%20algorithm%20would%20work%20.ipynb\" target=\"_parent\"><img src=\"https://colab.research.google.com/assets/colab-badge.svg\" alt=\"Open In Colab\"/></a>"
      ]
    },
    {
      "cell_type": "code",
      "metadata": {
        "id": "F0biJQZvPD23",
        "colab_type": "code",
        "colab": {}
      },
      "source": [
        ""
      ],
      "execution_count": 0,
      "outputs": []
    },
    {
      "cell_type": "markdown",
      "metadata": {
        "id": "ME3m2-4bPFY7",
        "colab_type": "text"
      },
      "source": [
        "how Taylor series algorithm would work for my function;\n",
        "    f(x)=sin(x/2)*sin(x/2)\n",
        "\\begin{equation}\n",
        "sin^2(x/2)=\\sum_{k=0}^\\infty\\ ((-1)^{k+1}\\cdot (x)^{2\\cdot k})/2\\cdot (2\\cdot k)!)==((-1)^{0+1}\\cdot (x)^{2\\cdot 0})/2\\cdot (2\\cdot 0)!)+((-1)^{1+1}\\cdot (x)^{2\\cdot 1})/2\\cdot (2\\cdot 1)!)\n",
        "\\end{equation}    "
      ]
    },
    {
      "cell_type": "code",
      "metadata": {
        "id": "pfwRkDHa0Gb8",
        "colab_type": "code",
        "colab": {}
      },
      "source": [
        ""
      ],
      "execution_count": 0,
      "outputs": []
    },
    {
      "cell_type": "markdown",
      "metadata": {
        "id": "qOaZFg2Q0Iei",
        "colab_type": "text"
      },
      "source": [
        ""
      ]
    },
    {
      "cell_type": "code",
      "metadata": {
        "id": "w89pK6SG0JLr",
        "colab_type": "code",
        "colab": {}
      },
      "source": [
        ""
      ],
      "execution_count": 0,
      "outputs": []
    }
  ]
}