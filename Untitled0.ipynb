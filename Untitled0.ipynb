{
  "nbformat": 4,
  "nbformat_minor": 0,
  "metadata": {
    "colab": {
      "name": "Untitled0.ipynb",
      "provenance": [],
      "authorship_tag": "ABX9TyPv2c8MA7UM8XsxzGztZv1i",
      "include_colab_link": true
    },
    "kernelspec": {
      "name": "python3",
      "display_name": "Python 3"
    }
  },
  "cells": [
    {
      "cell_type": "markdown",
      "metadata": {
        "id": "view-in-github",
        "colab_type": "text"
      },
      "source": [
        "<a href=\"https://colab.research.google.com/github/malith98/183AEB009/blob/master/Untitled0.ipynb\" target=\"_parent\"><img src=\"https://colab.research.google.com/assets/colab-badge.svg\" alt=\"Open In Colab\"/></a>"
      ]
    },
    {
      "cell_type": "code",
      "metadata": {
        "id": "rwXQAMtn4LcH",
        "colab_type": "code",
        "colab": {}
      },
      "source": [
        "# (1.) * (2) =(2.)-float *int =float\n",
        "# (1.) * (2.)=(2.)-float *float=float\n",
        "# Python 2.x\n",
        "# x = 1. * input(\"Lietotāj, lūdzu, ievadi argumentu (x): \") \n",
        "# Python 2.x\n",
        "# x = float(raw_input(\"Lietotāj, lūdzu, ievadi argumentu (x): \"))\n",
        "# Python 3.x\n",
        "x = float(input(\"Lietotāj, lūdzu, ievadi argumentu (x): \"))\n",
        "y = sin(x) \n",
        "print(\"sin(%.2f) = %.2f\"%(x,y))\n",
        "a0 = (-1)**0*x**1/(1)\n",
        "S0 = a0 \n",
        "print(\"a0 = %.2f S0 = %.2f\"%(a0,S0))\n",
        "a1 = (-1)**1*x**3/(1*2*3)\n",
        "S1 = a0 + a1 \n",
        "print(\"a1 = %.2f S1 = %.2f\"%(a1,S1))\n",
        "a2 = (-1)**2*x**5/(1*2*3*4*5) \n",
        "S2 = a0 + a1 + a2\n",
        "print(\"a2 = %.2f S2 = %.2f\"%(a2,S2))\n",
        "a3 = (-1)**3*x**7/(1*2*3*4*5*6*7) \n",
        "S3 = a0 + a1 + a2 + a3 \n",
        "print(\"a3 = %.2f S3 = %.2f\"%(a3,S3))"
      ],
      "execution_count": 0,
      "outputs": []
    }
  ]
}